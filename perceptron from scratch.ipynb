{
 "cells": [
  {
   "cell_type": "code",
   "execution_count": 1,
   "id": "e2ddb706-ed70-4bc5-87c6-ec2deada9215",
   "metadata": {},
   "outputs": [],
   "source": [
    "import pandas as pd\n",
    "import numpy as np\n",
    "import matplotlib.pyplot as plt\n",
    "\n",
    "from sklearn.model_selection import train_test_split"
   ]
  },
  {
   "cell_type": "code",
   "execution_count": 2,
   "id": "7ece3353-b4b9-482e-9e88-516e1028747e",
   "metadata": {},
   "outputs": [],
   "source": [
    "df = pd.read_csv('datasets/perceptron_dataset.csv')"
   ]
  },
  {
   "cell_type": "code",
   "execution_count": 3,
   "id": "9edceedb-bee1-4e94-862c-d664012fb619",
   "metadata": {},
   "outputs": [
    {
     "data": {
      "text/html": [
       "<div>\n",
       "<style scoped>\n",
       "    .dataframe tbody tr th:only-of-type {\n",
       "        vertical-align: middle;\n",
       "    }\n",
       "\n",
       "    .dataframe tbody tr th {\n",
       "        vertical-align: top;\n",
       "    }\n",
       "\n",
       "    .dataframe thead th {\n",
       "        text-align: right;\n",
       "    }\n",
       "</style>\n",
       "<table border=\"1\" class=\"dataframe\">\n",
       "  <thead>\n",
       "    <tr style=\"text-align: right;\">\n",
       "      <th></th>\n",
       "      <th>x1</th>\n",
       "      <th>x2</th>\n",
       "      <th>y</th>\n",
       "    </tr>\n",
       "  </thead>\n",
       "  <tbody>\n",
       "    <tr>\n",
       "      <th>0</th>\n",
       "      <td>0</td>\n",
       "      <td>0</td>\n",
       "      <td>0</td>\n",
       "    </tr>\n",
       "    <tr>\n",
       "      <th>1</th>\n",
       "      <td>0</td>\n",
       "      <td>1</td>\n",
       "      <td>0</td>\n",
       "    </tr>\n",
       "    <tr>\n",
       "      <th>2</th>\n",
       "      <td>1</td>\n",
       "      <td>0</td>\n",
       "      <td>0</td>\n",
       "    </tr>\n",
       "    <tr>\n",
       "      <th>3</th>\n",
       "      <td>1</td>\n",
       "      <td>1</td>\n",
       "      <td>1</td>\n",
       "    </tr>\n",
       "  </tbody>\n",
       "</table>\n",
       "</div>"
      ],
      "text/plain": [
       "   x1  x2  y\n",
       "0   0   0  0\n",
       "1   0   1  0\n",
       "2   1   0  0\n",
       "3   1   1  1"
      ]
     },
     "execution_count": 3,
     "metadata": {},
     "output_type": "execute_result"
    }
   ],
   "source": [
    "df"
   ]
  },
  {
   "cell_type": "code",
   "execution_count": 4,
   "id": "7728fe0a-090b-4487-8e08-438c7b9d9eca",
   "metadata": {},
   "outputs": [
    {
     "data": {
      "text/plain": [
       "(4, 2)"
      ]
     },
     "execution_count": 4,
     "metadata": {},
     "output_type": "execute_result"
    }
   ],
   "source": [
    "X = df.drop(columns=['y'])\n",
    "y = df['y']\n",
    "X.shape"
   ]
  },
  {
   "cell_type": "code",
   "execution_count": 8,
   "id": "380e7ff8-eb91-4155-a74c-9418c634efd5",
   "metadata": {},
   "outputs": [],
   "source": [
    "def step(z):\n",
    "    return 1 if z > 0 else 0"
   ]
  },
  {
   "cell_type": "code",
   "execution_count": 11,
   "id": "ded93f14-0fc7-4e76-87f0-62190080ddb0",
   "metadata": {},
   "outputs": [],
   "source": [
    "def perceptron(X, y, weights, alp):\n",
    "    for i in range(X.shape[0]):\n",
    "        # calculate z = w1x1 * w2x2\n",
    "        z =  np.dot(X.iloc[i].values, weights)\n",
    "        y_pred = step(z)\n",
    "        error = y[i] - y_pred\n",
    "        if error != 0:\n",
    "            # update weights \n",
    "            for w in range(len(weights)):\n",
    "                # new_weight = old_weight + alpha * error * xi\n",
    "                weights[w] =  np.round(weights[w] + (alp * error * X.iloc[i][w]), 1)\n",
    "        print(weights)\n",
    "    "
   ]
  },
  {
   "cell_type": "code",
   "execution_count": 12,
   "id": "0fcd9354-3af3-4d1c-ad23-8d20cfaccc0b",
   "metadata": {},
   "outputs": [
    {
     "name": "stdout",
     "output_type": "stream",
     "text": [
      "epoch : 1   ------------\n",
      "[0. 0.]\n",
      "[0. 0.]\n",
      "[0. 0.]\n",
      "[0.1 0.1]\n",
      "epoch : 2   ------------\n",
      "[0.1 0.1]\n",
      "[0.1 0. ]\n",
      "[0. 0.]\n",
      "[0.1 0.1]\n",
      "epoch : 3   ------------\n",
      "[0.1 0.1]\n",
      "[0.1 0. ]\n",
      "[0. 0.]\n",
      "[0.1 0.1]\n",
      "epoch : 4   ------------\n",
      "[0.1 0.1]\n",
      "[0.1 0. ]\n",
      "[0. 0.]\n",
      "[0.1 0.1]\n",
      "epoch : 5   ------------\n",
      "[0.1 0.1]\n",
      "[0.1 0. ]\n",
      "[0. 0.]\n",
      "[0.1 0.1]\n"
     ]
    }
   ],
   "source": [
    "# weights = [0.3, -0.1]\n",
    "weights = np.zeros(X.shape[1])\n",
    "alp = 0.1\n",
    "epoch = 6\n",
    "for i in range(1, epoch):\n",
    "    print(f'epoch : {i}   ------------')\n",
    "    perceptron(X,y, weights, alp)"
   ]
  },
  {
   "cell_type": "code",
   "execution_count": null,
   "id": "d5bc720a-348a-45e9-a253-8f949ff66730",
   "metadata": {},
   "outputs": [],
   "source": []
  }
 ],
 "metadata": {
  "kernelspec": {
   "display_name": "Python 3 (ipykernel)",
   "language": "python",
   "name": "python3"
  },
  "language_info": {
   "codemirror_mode": {
    "name": "ipython",
    "version": 3
   },
   "file_extension": ".py",
   "mimetype": "text/x-python",
   "name": "python",
   "nbconvert_exporter": "python",
   "pygments_lexer": "ipython3",
   "version": "3.8.10"
  }
 },
 "nbformat": 4,
 "nbformat_minor": 5
}
